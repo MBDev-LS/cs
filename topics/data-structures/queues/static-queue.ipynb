{
 "cells": [
  {
   "cell_type": "markdown",
   "metadata": {},
   "source": [
    "# Static Queues\n",
    "This document provides and explains a simulation of a static queue"
   ]
  },
  {
   "cell_type": "markdown",
   "metadata": {},
   "source": [
    "The function `createQueue`'s name is fairly descriptive in terms of its function. "
   ]
  },
  {
   "cell_type": "code",
   "execution_count": null,
   "metadata": {},
   "outputs": [],
   "source": [
    "def createQueue(queue: list) -> tuple:\n",
    "    front = 0\n",
    "    rear = -1\n",
    "    queueMaxLength = len(queue)\n",
    "    \n",
    "    return front, rear, queueMaxLength"
   ]
  },
  {
   "cell_type": "code",
   "execution_count": null,
   "metadata": {},
   "outputs": [],
   "source": [
    "def isFull(front: int, rear: int, queueMaxLength: int) -> bool:\n",
    "    size = rear - front + 1\n",
    "    if queueMaxLength == size:\n",
    "        return True\n",
    "    \n",
    "    return False"
   ]
  },
  {
   "cell_type": "code",
   "execution_count": null,
   "metadata": {},
   "outputs": [],
   "source": [
    "def isEmpty(front: int, rear: int) -> bool:\n",
    "    size = rear - front\n",
    "    if size <= 0:\n",
    "        return True\n",
    "    \n",
    "    return False"
   ]
  },
  {
   "cell_type": "code",
   "execution_count": null,
   "metadata": {},
   "outputs": [],
   "source": [
    "def enQueue(queue: list, front: int, rear: int, queueMaxLength: int, itemToEnQueue) -> tuple:\n",
    "    if isFull(front, rear, queueMaxLength) is True:\n",
    "        print(f'Failed to enqueue {itemToEnQueue} as queue ({\", \".join(queue)}) is full.')\n",
    "        return\n",
    "    \n",
    "    rear += 1\n",
    "    queue[rear] = itemToEnQueue\n",
    "\n",
    "    return queue, rear"
   ]
  },
  {
   "cell_type": "code",
   "execution_count": null,
   "metadata": {},
   "outputs": [],
   "source": [
    "def deQueue(queue: list, front: int, rear: int, queueMaxLength: int) -> tuple:\n",
    "    if isEmpty(front, rear) is True:\n",
    "        print(f'Failed to dequeue from queue, as queue is empty.')\n",
    "        return\n",
    "    deQueuedItem = queue.pop(front)\n",
    "    front += 1\n",
    "\n",
    "    return deQueuedItem, queue, front"
   ]
  }
 ],
 "metadata": {
  "language_info": {
   "name": "python"
  },
  "orig_nbformat": 4
 },
 "nbformat": 4,
 "nbformat_minor": 2
}
