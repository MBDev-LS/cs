{
 "cells": [
  {
   "cell_type": "markdown",
   "metadata": {},
   "source": [
    "# Static Queues\n",
    "This document provides and explains a simulation of a static queue"
   ]
  },
  {
   "cell_type": "markdown",
   "metadata": {},
   "source": [
    "The function `createQueue`'s name is fairly descriptive in terms of its function. It takes in a integer, which will be the queue's length, a queue containing instances of `None` is then created with the correct length. It then returns a tuple containing the queue list, front and rear pointers and  the maximum queue length, the length of the queue list."
   ]
  },
  {
   "cell_type": "code",
   "execution_count": 1,
   "metadata": {},
   "outputs": [],
   "source": [
    "def createQueue(queueLength: int) -> tuple:\n",
    "    queue = [None for i in range(queueLength)]\n",
    "    front = 0\n",
    "    rear = -1\n",
    "    queueMaxLength = len(queue)\n",
    "    \n",
    "    return queue, front, rear, queueMaxLength"
   ]
  },
  {
   "cell_type": "markdown",
   "metadata": {},
   "source": [
    "Takes in `front` and `rear` and calculates the length of the queue, then compares this length to the maxminum length to the queue. If the size is greater than or equal to the queueMaxLength then it returns `True`, else it returns `False`"
   ]
  },
  {
   "cell_type": "code",
   "execution_count": 2,
   "metadata": {},
   "outputs": [],
   "source": [
    "def isFull(front: int, rear: int, queueMaxLength: int) -> bool:\n",
    "    size = rear - front + 1\n",
    "    if size >= queueMaxLength:\n",
    "        return True\n",
    "    \n",
    "    return False"
   ]
  },
  {
   "cell_type": "markdown",
   "metadata": {},
   "source": [
    "Takes in `front` and `rear` and calculates the length of the queue, then compares this length to the maxminum length to the queue. If the size is less than or equal to `0` then it returns `True`, else it returns `False`"
   ]
  },
  {
   "cell_type": "code",
   "execution_count": 3,
   "metadata": {},
   "outputs": [],
   "source": [
    "def isEmpty(front: int, rear: int) -> bool:\n",
    "    size = rear - front\n",
    "    if size < 0:\n",
    "        return True\n",
    "    \n",
    "    return False"
   ]
  },
  {
   "cell_type": "markdown",
   "metadata": {},
   "source": [
    "The `enQueue` function increments the value of the rear pointer by `1`, then sets `queue[rear]` to the new item. It then returns the queue as well as the new rear value in a tuple."
   ]
  },
  {
   "cell_type": "code",
   "execution_count": 4,
   "metadata": {},
   "outputs": [],
   "source": [
    "def enQueue(queue: list, front: int, rear: int, queueMaxLength: int, itemToEnQueue) -> tuple:\n",
    "    if isFull(front, rear, queueMaxLength) is True:\n",
    "        print(f'Failed to enqueue {itemToEnQueue} as queue ({\", \".join(queue)}) is full.')\n",
    "        return\n",
    "    \n",
    "    rear += 1\n",
    "    queue[rear] = itemToEnQueue\n",
    "\n",
    "    return queue, rear"
   ]
  },
  {
   "cell_type": "markdown",
   "metadata": {},
   "source": [
    "The function `deQueue` stores the element at the position indicated by the `front` pointer's value. This position is then set to `None` and the `deQueuedItem`, `queue` and `front` are returned in a tuple. "
   ]
  },
  {
   "cell_type": "code",
   "execution_count": 5,
   "metadata": {},
   "outputs": [],
   "source": [
    "def deQueue(queue: list, front: int, rear: int, queueMaxLength: int) -> tuple:\n",
    "    if isEmpty(front, rear) is True:\n",
    "        print(f'Failed to dequeue from queue, as queue is empty.')\n",
    "        return\n",
    "    \n",
    "    deQueuedItem = queue[front]\n",
    "    queue[front] = None\n",
    "    \n",
    "    front += 1\n",
    "\n",
    "    return deQueuedItem, queue, front"
   ]
  },
  {
   "cell_type": "markdown",
   "metadata": {},
   "source": [
    "## Testing\n",
    "### Testing Functions"
   ]
  },
  {
   "cell_type": "code",
   "execution_count": 6,
   "metadata": {},
   "outputs": [],
   "source": [
    "def logQueue(queue: list, front: int, rear: int, queueMaxLength: int):\n",
    "    print(f'Queue: {queue}')\n",
    "    print(f'isEmpty: {isEmpty(front, rear)}')\n",
    "    print(f'isFull: {isFull(front, rear, queueMaxLength)}')"
   ]
  },
  {
   "cell_type": "markdown",
   "metadata": {},
   "source": [
    "Initialise the variables `queue`, `front`, `rear` and `queueMaxLength`, unpacking the tuple returned by the `createQueue` function and setting their values appropriately."
   ]
  },
  {
   "cell_type": "markdown",
   "metadata": {},
   "source": [
    "### Queues Testing"
   ]
  },
  {
   "cell_type": "code",
   "execution_count": 7,
   "metadata": {},
   "outputs": [],
   "source": [
    "queue, front, rear, queueMaxLength = createQueue(4)"
   ]
  },
  {
   "cell_type": "code",
   "execution_count": 8,
   "metadata": {},
   "outputs": [
    {
     "name": "stdout",
     "output_type": "stream",
     "text": [
      "[None, None, None, None] 0 -1 4\n"
     ]
    }
   ],
   "source": [
    "print(queue, front, rear, queueMaxLength)"
   ]
  },
  {
   "cell_type": "markdown",
   "metadata": {},
   "source": [
    "Adding `'Moss'`, `'Roy'`, `'Jen'` and `'Douglas'` to the queue."
   ]
  },
  {
   "cell_type": "code",
   "execution_count": 9,
   "metadata": {},
   "outputs": [],
   "source": [
    "queue, rear = enQueue(queue, front, rear, queueMaxLength, 'Moss')\n",
    "queue, rear = enQueue(queue, front, rear, queueMaxLength, 'Roy')\n",
    "queue, rear = enQueue(queue, front, rear, queueMaxLength, 'Jen')\n",
    "queue, rear = enQueue(queue, front, rear, queueMaxLength, 'Douglas')"
   ]
  },
  {
   "cell_type": "code",
   "execution_count": 10,
   "metadata": {},
   "outputs": [
    {
     "name": "stdout",
     "output_type": "stream",
     "text": [
      "Queue: ['Moss', 'Roy', 'Jen', 'Douglas']\n",
      "isEmpty: False\n",
      "isFull: True\n"
     ]
    }
   ],
   "source": [
    "logQueue(queue, front, rear, queueMaxLength)"
   ]
  },
  {
   "cell_type": "code",
   "execution_count": 11,
   "metadata": {},
   "outputs": [
    {
     "name": "stdout",
     "output_type": "stream",
     "text": [
      "Queue: [None, 'Roy', 'Jen', 'Douglas']\n",
      "isEmpty: False\n",
      "isFull: False\n"
     ]
    }
   ],
   "source": [
    "deQueuedItem, queue, front = deQueue(queue, front, rear, queueMaxLength)\n",
    "logQueue(queue, front, rear, queueMaxLength)"
   ]
  },
  {
   "cell_type": "code",
   "execution_count": 12,
   "metadata": {},
   "outputs": [],
   "source": [
    "deQueuedItem, queue, front = deQueue(queue, front, rear, queueMaxLength)\n",
    "deQueuedItem, queue, front = deQueue(queue, front, rear, queueMaxLength)\n",
    "deQueuedItem, queue, front = deQueue(queue, front, rear, queueMaxLength)"
   ]
  },
  {
   "cell_type": "code",
   "execution_count": 13,
   "metadata": {},
   "outputs": [
    {
     "name": "stdout",
     "output_type": "stream",
     "text": [
      "Queue: [None, None, None, None]\n",
      "isEmpty: True\n",
      "isFull: False\n"
     ]
    }
   ],
   "source": [
    "logQueue(queue, front, rear, queueMaxLength)"
   ]
  }
 ],
 "metadata": {
  "interpreter": {
   "hash": "d394ba8e4b4681191e99b63eeb1a4f744fec1eb58da3522b446406214fb31e14"
  },
  "kernelspec": {
   "display_name": "Python 3.8.3 ('base')",
   "language": "python",
   "name": "python3"
  },
  "language_info": {
   "codemirror_mode": {
    "name": "ipython",
    "version": 3
   },
   "file_extension": ".py",
   "mimetype": "text/x-python",
   "name": "python",
   "nbconvert_exporter": "python",
   "pygments_lexer": "ipython3",
   "version": "3.8.3"
  },
  "orig_nbformat": 4
 },
 "nbformat": 4,
 "nbformat_minor": 2
}
