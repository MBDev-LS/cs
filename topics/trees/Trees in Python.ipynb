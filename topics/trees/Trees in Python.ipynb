{
 "cells": [
  {
   "cell_type": "markdown",
   "metadata": {},
   "source": [
    "# Trees in Python"
   ]
  },
  {
   "cell_type": "markdown",
   "metadata": {},
   "source": [
    "## Establishing the values of variables"
   ]
  },
  {
   "cell_type": "code",
   "execution_count": 1,
   "metadata": {},
   "outputs": [],
   "source": [
    "vars = {\n",
    "\t'x': 4,\n",
    "\t'y': 7\n",
    "}"
   ]
  },
  {
   "cell_type": "markdown",
   "metadata": {},
   "source": [
    "## Class Declarations"
   ]
  },
  {
   "cell_type": "markdown",
   "metadata": {},
   "source": [
    "### Base Class Declarations\n",
    "Creating the base class for expressions."
   ]
  },
  {
   "cell_type": "code",
   "execution_count": 2,
   "metadata": {},
   "outputs": [],
   "source": [
    "class Exprs():\n",
    "\tpass"
   ]
  },
  {
   "cell_type": "markdown",
   "metadata": {},
   "source": [
    "Defining the base class for Operators such as + and *."
   ]
  },
  {
   "cell_type": "code",
   "execution_count": 3,
   "metadata": {},
   "outputs": [],
   "source": [
    "class Operators(Exprs):\n",
    "\tdef __init__(self, l, r):\n",
    "\t\tself.l = l\n",
    "\t\tself.r = r\n",
    "\n",
    "\tdef __str__(self):\n",
    "\t\treturn f'({self.l} {self.symb} {self.r})'"
   ]
  },
  {
   "cell_type": "markdown",
   "metadata": {},
   "source": [
    "### Specific Operator Declarations\n",
    "Defining specific classes for $+$, $-$, $*$ and /. Each of these classes has a seperate eval function."
   ]
  },
  {
   "cell_type": "code",
   "execution_count": 4,
   "metadata": {},
   "outputs": [],
   "source": [
    "class Plus(Operators):\n",
    "\tdef __init__(self, l, r):\n",
    "\t\tsuper().__init__(l, r)\n",
    "\t\tself.symb = '+'\n",
    "\t\n",
    "\tdef eval(self, vars):\n",
    "\t\treturn self.l.eval(vars) + self.r.eval(vars)"
   ]
  },
  {
   "cell_type": "code",
   "execution_count": 5,
   "metadata": {},
   "outputs": [],
   "source": [
    "class Minus(Operators):\n",
    "\tdef __init__(self, l, r):\n",
    "\t\tsuper().__init__(l, r)\n",
    "\t\tself.symb = '-'\n",
    "\t\n",
    "\tdef eval(self, vars):\n",
    "\t\treturn self.l.eval(vars) - self.r.eval(vars)"
   ]
  },
  {
   "cell_type": "code",
   "execution_count": 6,
   "metadata": {},
   "outputs": [],
   "source": [
    "class Times(Operators):\n",
    "\tdef __init__(self, l, r):\n",
    "\t\tsuper().__init__(l, r)\n",
    "\t\tself.symb = '*'\n",
    "\t\n",
    "\tdef eval(self, vars):\n",
    "\t\treturn self.l.eval(vars) * self.r.eval(vars)"
   ]
  },
  {
   "cell_type": "code",
   "execution_count": 7,
   "metadata": {},
   "outputs": [],
   "source": [
    "class Divide(Operators):\n",
    "\tdef __init__(self, l, r):\n",
    "\t\tsuper().__init__(l, r)\n",
    "\t\tself.symb = '/'\n",
    "\t\n",
    "\tdef eval(self, vars):\n",
    "\t\treturn self.l.eval(vars) / self.r.eval(vars)"
   ]
  },
  {
   "cell_type": "markdown",
   "metadata": {},
   "source": [
    "### Constant and Variable Class Declarations"
   ]
  },
  {
   "cell_type": "code",
   "execution_count": 8,
   "metadata": {},
   "outputs": [],
   "source": [
    "class Const(Exprs):\n",
    "\tdef __init__(self, value):\n",
    "\t\tself.value = value\n",
    "\t\n",
    "\tdef __str__(self):\n",
    "\t\treturn str(self.value)\n",
    "\t\n",
    "\tdef eval(self, vars):\n",
    "\t\treturn self.value"
   ]
  },
  {
   "cell_type": "code",
   "execution_count": 9,
   "metadata": {},
   "outputs": [],
   "source": [
    "class Var(Exprs):\n",
    "\tdef __init__(self, name):\n",
    "\t\tself.name = name\n",
    "\t\n",
    "\tdef __str__(self):\n",
    "\t\treturn str(self.name)\n",
    "\n",
    "\tdef eval(self, vars):\n",
    "\t\treturn vars[self.name]"
   ]
  },
  {
   "cell_type": "markdown",
   "metadata": {},
   "source": [
    "## Object Creation"
   ]
  },
  {
   "cell_type": "markdown",
   "metadata": {},
   "source": [
    "Creates the equation $5*(4+x)$ and display it in the correct form."
   ]
  },
  {
   "cell_type": "code",
   "execution_count": 10,
   "metadata": {},
   "outputs": [],
   "source": [
    "e1 = Times(Const(5), Plus(Const(4), Var('x')))"
   ]
  },
  {
   "cell_type": "code",
   "execution_count": 11,
   "metadata": {},
   "outputs": [
    {
     "name": "stdout",
     "output_type": "stream",
     "text": [
      "(5 * (4 + x))\n"
     ]
    }
   ],
   "source": [
    "print(e1)"
   ]
  },
  {
   "cell_type": "markdown",
   "metadata": {},
   "source": [
    "Creates the equation $\\frac{9+y}{8-x}$ and display it in the correct form."
   ]
  },
  {
   "cell_type": "code",
   "execution_count": 12,
   "metadata": {},
   "outputs": [],
   "source": [
    "e2 = Divide(Plus(Const(9), Var('y')), Minus(Const(8), Var('x')))"
   ]
  },
  {
   "cell_type": "code",
   "execution_count": 13,
   "metadata": {},
   "outputs": [
    {
     "name": "stdout",
     "output_type": "stream",
     "text": [
      "((9 + y) / (8 - x))\n"
     ]
    }
   ],
   "source": [
    "print(e2)"
   ]
  },
  {
   "cell_type": "markdown",
   "metadata": {},
   "source": [
    "### Evaluating Equations\n",
    "Now, using the object function `eval()`, the equations can be evaluated, with variables taking their values from the `vars` dictionary."
   ]
  },
  {
   "cell_type": "code",
   "execution_count": 14,
   "metadata": {},
   "outputs": [
    {
     "data": {
      "text/plain": [
       "40"
      ]
     },
     "execution_count": 14,
     "metadata": {},
     "output_type": "execute_result"
    }
   ],
   "source": [
    "e1.eval(vars)"
   ]
  },
  {
   "cell_type": "code",
   "execution_count": 15,
   "metadata": {},
   "outputs": [
    {
     "data": {
      "text/plain": [
       "4.0"
      ]
     },
     "execution_count": 15,
     "metadata": {},
     "output_type": "execute_result"
    }
   ],
   "source": [
    "e2.eval(vars)"
   ]
  },
  {
   "cell_type": "markdown",
   "metadata": {},
   "source": [
    "## Final Comments & Outcomes\n",
    "This document outlines one use case of the tree abstract data structure and has expanded my knowledge and understanding of this topic.\n",
    "\n",
    "Having implemented trees in Python, the next steps are as follows:\n",
    "- Address the issue of unnecessary brackets, see [here](https://www.youtube.com/watch?v=7tCNu4CnjVc&t=908s)\n",
    "- Explore other uses and aspects of trees\n",
    "  - Including such information specifically pertaining to binary trees\n",
    "- Learn about ways to search trees\n",
    "\n",
    "## Attributions\n",
    "**Creator** - [Louis Stevens](https://louisstevens.com)\\\n",
    "**Video referenced** - [Coding Trees in Python - Computerphile](https://www.youtube.com/watch?v=7tCNu4CnjVc)"
   ]
  },
  {
   "cell_type": "markdown",
   "metadata": {},
   "source": [
    "##"
   ]
  }
 ],
 "metadata": {
  "interpreter": {
   "hash": "d394ba8e4b4681191e99b63eeb1a4f744fec1eb58da3522b446406214fb31e14"
  },
  "kernelspec": {
   "display_name": "Python 3.8.8 ('base')",
   "language": "python",
   "name": "python3"
  },
  "language_info": {
   "codemirror_mode": {
    "name": "ipython",
    "version": 3
   },
   "file_extension": ".py",
   "mimetype": "text/x-python",
   "name": "python",
   "nbconvert_exporter": "python",
   "pygments_lexer": "ipython3",
   "version": "3.8.3"
  },
  "orig_nbformat": 4
 },
 "nbformat": 4,
 "nbformat_minor": 2
}
