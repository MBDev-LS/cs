{
 "cells": [
  {
   "cell_type": "markdown",
   "metadata": {},
   "source": [
    "# Trees in Python"
   ]
  },
  {
   "cell_type": "markdown",
   "metadata": {},
   "source": [
    "Establishing the values of variables."
   ]
  },
  {
   "cell_type": "code",
   "execution_count": 41,
   "metadata": {},
   "outputs": [],
   "source": [
    "vars = {\n",
    "\t'x': 4,\n",
    "\t'y': 7\n",
    "}"
   ]
  },
  {
   "cell_type": "markdown",
   "metadata": {},
   "source": [
    "## Class Declarations"
   ]
  },
  {
   "cell_type": "markdown",
   "metadata": {},
   "source": [
    "### Base Class Declarations"
   ]
  },
  {
   "cell_type": "markdown",
   "metadata": {},
   "source": [
    "Creating the base class for expressions."
   ]
  },
  {
   "cell_type": "code",
   "execution_count": 42,
   "metadata": {},
   "outputs": [],
   "source": [
    "class Exprs():\n",
    "\tpass"
   ]
  },
  {
   "cell_type": "markdown",
   "metadata": {},
   "source": [
    "Defining the base class for Operators such as + and *."
   ]
  },
  {
   "cell_type": "code",
   "execution_count": 43,
   "metadata": {},
   "outputs": [],
   "source": [
    "class Operators(Exprs):\n",
    "\tdef __init__(self, l, r):\n",
    "\t\tself.l = l\n",
    "\t\tself.r = r\n",
    "\n",
    "\tdef __str__(self):\n",
    "\t\treturn f'({self.l} {self.symb} {self.r})'"
   ]
  },
  {
   "cell_type": "markdown",
   "metadata": {},
   "source": [
    "### Specific Operator Declarations"
   ]
  },
  {
   "cell_type": "code",
   "execution_count": 44,
   "metadata": {},
   "outputs": [],
   "source": [
    "class Minus(Operators):\n",
    "\tdef __init__(self, l, r):\n",
    "\t\tsuper().__init__(l, r)\n",
    "\t\tself.symb = '-'"
   ]
  },
  {
   "cell_type": "code",
   "execution_count": 45,
   "metadata": {},
   "outputs": [],
   "source": [
    "class Plus(Operators):\n",
    "\tdef __init__(self, l, r):\n",
    "\t\tsuper().__init__(l, r)\n",
    "\t\tself.symb = '+'"
   ]
  },
  {
   "cell_type": "code",
   "execution_count": 46,
   "metadata": {},
   "outputs": [],
   "source": [
    "class Times(Operators):\n",
    "\tdef __init__(self, l, r):\n",
    "\t\tsuper().__init__(l, r)\n",
    "\t\tself.symb = '*'"
   ]
  },
  {
   "cell_type": "code",
   "execution_count": 47,
   "metadata": {},
   "outputs": [],
   "source": [
    "class Divide(Operators):\n",
    "\tdef __init__(self, l, r):\n",
    "\t\tsuper().__init__(l, r)\n",
    "\t\tself.symb = '/'"
   ]
  },
  {
   "cell_type": "markdown",
   "metadata": {},
   "source": [
    "### Other Class Declarations"
   ]
  },
  {
   "cell_type": "code",
   "execution_count": 48,
   "metadata": {},
   "outputs": [],
   "source": [
    "class Const(Exprs):\n",
    "\tdef __init__(self, value):\n",
    "\t\tself.value = value\n",
    "\t\n",
    "\tdef __str__(self):\n",
    "\t\treturn str(self.value)"
   ]
  },
  {
   "cell_type": "code",
   "execution_count": 49,
   "metadata": {},
   "outputs": [],
   "source": [
    "class Var(Exprs):\n",
    "\tdef __init__(self, name):\n",
    "\t\tself.name = name\n",
    "\t\n",
    "\tdef __str__(self):\n",
    "\t\treturn str(self.name)"
   ]
  },
  {
   "cell_type": "markdown",
   "metadata": {},
   "source": [
    "## Object Creation"
   ]
  },
  {
   "cell_type": "markdown",
   "metadata": {},
   "source": [
    "Creates the following equation: $5*(4+x)$"
   ]
  },
  {
   "cell_type": "code",
   "execution_count": 50,
   "metadata": {},
   "outputs": [],
   "source": [
    "e1 = Times(Const(5), Plus(Const(4), Var('x')))"
   ]
  },
  {
   "cell_type": "code",
   "execution_count": 51,
   "metadata": {},
   "outputs": [
    {
     "name": "stdout",
     "output_type": "stream",
     "text": [
      "(5 * (4 + x))\n"
     ]
    }
   ],
   "source": [
    "print(e1)"
   ]
  },
  {
   "cell_type": "markdown",
   "metadata": {},
   "source": [
    "Creates the following equation $\\frac{9+y}{8-x}$"
   ]
  },
  {
   "cell_type": "code",
   "execution_count": 52,
   "metadata": {},
   "outputs": [],
   "source": [
    "e2 = Divide(Plus(Const(9), Var('y')), Minus(Const(8), Var('x')))"
   ]
  },
  {
   "cell_type": "code",
   "execution_count": 53,
   "metadata": {},
   "outputs": [
    {
     "name": "stdout",
     "output_type": "stream",
     "text": [
      "((9 + y) / (8 - x))\n"
     ]
    }
   ],
   "source": [
    "print(e2)"
   ]
  }
 ],
 "metadata": {
  "interpreter": {
   "hash": "d394ba8e4b4681191e99b63eeb1a4f744fec1eb58da3522b446406214fb31e14"
  },
  "kernelspec": {
   "display_name": "Python 3.8.8 ('base')",
   "language": "python",
   "name": "python3"
  },
  "language_info": {
   "codemirror_mode": {
    "name": "ipython",
    "version": 3
   },
   "file_extension": ".py",
   "mimetype": "text/x-python",
   "name": "python",
   "nbconvert_exporter": "python",
   "pygments_lexer": "ipython3",
   "version": "3.8.8"
  },
  "orig_nbformat": 4
 },
 "nbformat": 4,
 "nbformat_minor": 2
}
